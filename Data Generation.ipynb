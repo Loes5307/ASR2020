{
 "cells": [
  {
   "cell_type": "markdown",
   "metadata": {},
   "source": [
    "# Code for Data Generation\n",
    "by Loes & Merel"
   ]
  },
  {
   "cell_type": "code",
   "execution_count": null,
   "metadata": {},
   "outputs": [],
   "source": [
    "import subprocess\n",
    "import os\n",
    "import numpy as np\n",
    "import soundfile as sf\n",
    "import random\n",
    "import string\n",
    "from numpy import ndarray\n",
    "import pickle\n",
    "import pandas as pd\n"
   ]
  },
  {
   "cell_type": "code",
   "execution_count": null,
   "metadata": {},
   "outputs": [],
   "source": [
    "#variables\n",
    "indir = 'TIMIT/' #directory of utterances\n",
    "outdir = 'out/' \n",
    "secdir = 'splitdata/' #this is the actual out directory\n",
    "normdir = 'normalized/' \n",
    "tempdir = 'temp/'\n",
    "paddeddir = 'padded/'\n",
    "labeldir = 'labels/'\n",
    "n_wavfiles = 1000 #how many total overlapping files you want to generate\n",
    "random_max = 7 #total amount of speakers in an overlapping file\n",
    "mean = 0.4 #40% overlap\n",
    "std = 0.01"
   ]
  },
  {
   "cell_type": "code",
   "execution_count": null,
   "metadata": {},
   "outputs": [],
   "source": [
    "filenames=[]\n",
    "for filename in os.listdir(indir):\n",
    "    filenames.append(filename)\n",
    "\n",
    "nrs = std * np.random.randn(n_wavfiles) + mean\n",
    "label = []\n",
    "new_files = []\n",
    "commands = []\n",
    "sec_files = [] \n",
    "splitcommands = []"
   ]
  },
  {
   "cell_type": "markdown",
   "metadata": {},
   "source": [
    "## Creating the audio segments"
   ]
  },
  {
   "cell_type": "code",
   "execution_count": null,
   "metadata": {},
   "outputs": [],
   "source": [
    "for f in range(n_wavfiles):\n",
    "    \n",
    "    n_files = random.randint(2, random_max) #nr of utterances per overlapping file\n",
    "    #print(\"n_files = \", n_files)\n",
    "    \n",
    "    choices = np.random.choice(len(filenames),n_files) #random indices\n",
    "    \n",
    "    doubles = True\n",
    "    while(doubles): #speakers may only speak once per file \n",
    "        names = []\n",
    "        for c in choices:\n",
    "            names.append(filenames[c][0:8]) #check entire speaker, not the particular file \n",
    "        \n",
    "        if(len(names) != len(set(names))):\n",
    "            choices = np.random.choice(len(filenames),n_files) \n",
    "        else:\n",
    "            doubles = False\n",
    "            \n",
    "   # print('choices =', choices)\n",
    "    new_filename = str(n_files)+\"_\"\n",
    "\n",
    "    starttimes = [0]\n",
    "    lengtes = []\n",
    "    totstarttime = 0\n",
    "    tempfilename = \"\"\n",
    "\n",
    "    for i in range(len(choices)-1):\n",
    "        file1 = filenames[choices[i]]\n",
    "        file2 = filenames[choices[i+1]]\n",
    "\n",
    "       # print(file1,\" & \", file2)\n",
    "        new_filename += str(file1[0:10])+\"_\"\n",
    "        \n",
    "        in1f = sf.SoundFile(indir+file1)\n",
    "        len1 = round((len(in1f) / in1f.samplerate),1) \n",
    "        in2f = sf.SoundFile(indir+file2)\n",
    "        len2 = round((len(in2f) / in2f.samplerate),1) \n",
    "        \n",
    "        overlap_time = round((len1+len2)*nrs[f],1)\n",
    "        start_time = max(round(len1-overlap_time,1),0)\n",
    "       # print('starttime = ', start_time)\n",
    "    \n",
    "        totstarttime += start_time\n",
    "       # print('totstarttime', totstarttime)\n",
    "    \n",
    "        starttimes.append(totstarttime)\n",
    "        lengtes.append(len1)    \n",
    "        if(i == (len(choices)-2)): #for the last time\n",
    "            lengtes.append(len2)\n",
    "            new_filename += str(file2[0:10]) +\".WAV\"\n",
    "    \n",
    "        padcommand = \"sox \" + str(indir+file2) + \" padded/\" + str(file2) + \" pad \" + str(totstarttime) +\" 0 \"\n",
    "       # print(\"padcommand == \", padcommand)\n",
    "        commands.append(padcommand)\n",
    "    \n",
    "        if(i == 0):\n",
    "            runcommand = \"sox -m \" + str(indir+file1) + \" padded/\" + str(file2) +\" temp/tempfile\"+str(i)+\".WAV\"\n",
    "        else:\n",
    "            runcommand = \"sox -m temp/tempfile\" + str(i-1) + \".WAV padded/\" + str(file2) +\" temp/tempfile\"+str(i)+\".WAV\"\n",
    "            \n",
    "        #print(\"runcommand == \", runcommand)\n",
    "        commands.append(runcommand)\n",
    "    \n",
    "      #  print()\n",
    "      #  print(new_filename)\n",
    "    normcommand = \"sox temp/tempfile\"+ str(len(choices)-2) + \".WAV \" + str(normdir+new_filename)\n",
    "   # print(\"normcommand == \", normcommand)\n",
    "    commands.append(normcommand)\n",
    "    \n",
    "    #MAKING LABELS\n",
    "  #  print('starttimes = ', starttimes)\n",
    "  #  print('lengtes = ', lengtes)\n",
    "    totaltime = int (round((starttimes[-1]+lengtes[-1]), 0))\n",
    "  #  print('totaltime = ', totaltime)\n",
    "\n",
    "    lijstje = [0] * totaltime\n",
    "  #  print()\n",
    "    starttime_index = 0\n",
    "\n",
    "    for t in range(totaltime):\n",
    "     #   print('t = ',t)\n",
    "        sec_filename = \"\"\n",
    "        for s in range(len(lengtes)):\n",
    "            if(t+1 > (starttimes[s]) and t < (starttimes[s]+lengtes[s])):\n",
    "                sec_filename += str(filenames[choices[s]][0:10]) + \"_\"\n",
    "                lijstje[t] += 1\n",
    "        sec_filename += str(t) + \".WAV\"\n",
    "      #  print('sec_filename = ', sec_filename)\n",
    "      #  print('aantalspeakers = ', lijstje[t])\n",
    "        sec_files.append([sec_filename, lijstje[t]])\n",
    "        splitcommand = \"sox \"+str(normdir+new_filename)+\" \"+str(secdir+sec_filename)+\" trim \"+str(t)+\" 1\"\n",
    "        splitcommands.append(splitcommand)\n",
    "      #  print(\"splitcommand ==\", splitcommand)\n",
    "      #  print()\n",
    "        \n",
    "  #  print(lijstje)\n",
    "    naam = \"labels_\" + str(new_filename)\n",
    "  #  print(naam)\n",
    "  #  print()\n",
    "\n",
    "    new_files.append([naam, lijstje])"
   ]
  },
  {
   "cell_type": "code",
   "execution_count": null,
   "metadata": {
    "scrolled": true
   },
   "outputs": [],
   "source": [
    "df2 = pd.DataFrame(sec_files, columns = ['Filename', 'Speakers'])\n",
    "df2.to_csv('secdata.csv', index=False)\n",
    "\n",
    "for command in commands:\n",
    "   # print(command)\n",
    "    subprocess.run(command, shell=True)"
   ]
  },
  {
   "cell_type": "code",
   "execution_count": null,
   "metadata": {},
   "outputs": [],
   "source": [
    "for scommand in splitcommands:\n",
    "   # print(scommand)\n",
    "    subprocess.run(scommand, shell=True)"
   ]
  },
  {
   "cell_type": "code",
   "execution_count": null,
   "metadata": {},
   "outputs": [],
   "source": [
    "# DO NOT RUN THESE WITHOUT CHECKING!!!!!!\n",
    "#Cleaningcommands:\n",
    "\"\"\"\n",
    "clean1 = \"del /S temp \"\n",
    "clean2 = \"del /S padded \"\n",
    "clean3 = \"del /S ff2\"\n",
    "clean4 = \"del /S normalized\"\n",
    "clean5 = \"del /S splitdata\"\n",
    "\n",
    "cleancoms = [clean1, clean2, clean3, clean4]\n",
    "\n",
    "for cc in cleancoms:\n",
    "    print(cc)\n",
    "    subprocess.run(cc, shell=True)\n",
    "    subprocess.run(\"y\", shell=True)\n",
    "\"\"\""
   ]
  },
  {
   "cell_type": "code",
   "execution_count": null,
   "metadata": {},
   "outputs": [],
   "source": [
    "#POSITIVELY DO NOT RUN THIS WITHOUT CHECKING\n",
    "#WILL DELETE YOUR SEGMENTS\n",
    "\"\"\"\n",
    "clean5 = \"del /S splitdata\"\n",
    "\n",
    "subprocess.run(clean5, shell=True)\n",
    "subprocess.run(\"y\", shell=True)\n",
    "\"\"\""
   ]
  },
  {
   "cell_type": "markdown",
   "metadata": {},
   "source": [
    "## Creating spectrograms\n",
    "By Merel and Loes"
   ]
  },
  {
   "cell_type": "code",
   "execution_count": null,
   "metadata": {},
   "outputs": [],
   "source": [
    "from scipy.signal import spectrogram\n",
    "import os\n",
    "from scipy.io import wavfile\n",
    "from matplotlib import pyplot as plt\n",
    "import stft\n",
    "import matplotlib\n",
    "import pandas as pd "
   ]
  },
  {
   "cell_type": "code",
   "execution_count": null,
   "metadata": {},
   "outputs": [],
   "source": [
    "directory = \"splitdata/\"\n",
    "images = \"spectograms/\"\n",
    "\n",
    "filenames=[]\n",
    "for filename in os.listdir(directory):\n",
    "    filenames.append(filename)\n",
    "\n",
    "df = pd.read_csv(\"secdata.csv\")"
   ]
  },
  {
   "cell_type": "code",
   "execution_count": null,
   "metadata": {},
   "outputs": [],
   "source": [
    "#Creating and saving spectrograms\n",
    "for f in range(len(filenames)):\n",
    "   \n",
    "    sample_rate, samples = wavfile.read(directory+filenames[f])\n",
    "    \n",
    "    ax = plt.axes([0, 0, 1, 1], frameon=False)\n",
    "    ax.get_xaxis().set_visible(False)\n",
    "    ax.get_yaxis().set_visible(False)\n",
    "    \n",
    "    spec = plt.specgram(samples,  Fs=sample_rate)\n",
    "    \n",
    "    filename = os.path.splitext(filenames[f])[0]+'.png'\n",
    "    \n",
    "    plt.savefig(images+filename, pad_inches=0.0, bbox_inches=\"tight\")\n",
    "    \n",
    "    plt.clf()\n",
    "    plt.close()"
   ]
  },
  {
   "cell_type": "code",
   "execution_count": null,
   "metadata": {},
   "outputs": [],
   "source": []
  }
 ],
 "metadata": {
  "kernelspec": {
   "display_name": "Python 3",
   "language": "python",
   "name": "python3"
  },
  "language_info": {
   "codemirror_mode": {
    "name": "ipython",
    "version": 3
   },
   "file_extension": ".py",
   "mimetype": "text/x-python",
   "name": "python",
   "nbconvert_exporter": "python",
   "pygments_lexer": "ipython3",
   "version": "3.6.8"
  }
 },
 "nbformat": 4,
 "nbformat_minor": 2
}
